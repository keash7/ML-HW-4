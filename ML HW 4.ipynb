{
 "cells": [
  {
   "cell_type": "code",
   "execution_count": 1,
   "metadata": {},
   "outputs": [],
   "source": [
    "from sklearn.datasets import load_digits\n",
    "images, labels = load_digits(2, return_X_y=True)\n",
    "# Labeled training set\n",
    "training_images = images[:300]\n",
    "training_labels = labels[:300]\n",
    "# Labeled test set\n",
    "test_images = images[300:]\n",
    "test_labels = labels[300:]"
   ]
  },
  {
   "cell_type": "markdown",
   "metadata": {},
   "source": [
    "KNN Classification with 2-D features"
   ]
  },
  {
   "cell_type": "code",
   "execution_count": 6,
   "metadata": {},
   "outputs": [
    {
     "name": "stdout",
     "output_type": "stream",
     "text": [
      "[[ 0.  0.  5. ...  0.  0.  0.]\n",
      " [ 0.  0.  0. ... 10.  0.  0.]\n",
      " [ 0.  0.  1. ...  3.  0.  0.]\n",
      " ...\n",
      " [ 0.  0.  0. ... 16.  7.  0.]\n",
      " [ 0.  0.  7. ...  5.  0.  0.]\n",
      " [ 0.  0. 10. ... 10.  1.  0.]]\n",
      "(300, 64)\n",
      "[0 1 0 1 0 1 0 0 1 1 0 0 0 1 1 0 0 0 1 1 1 1 1 0 1 0 0 1 0 1 0 1 0 0 1 1 0\n",
      " 0 0 1 1 0 0 0 1 1 1 1 1 0 1 0 0 1 0 1 0 1 0 0 1 1 0 0 0 1 1 0 0 0 1 1 1 1\n",
      " 1 0 1 0 0 1 0 1 0 1 0 0 1 1 0 0 0 1 1 0 0 0 1 1 1 1 1 0 1 0 0 1 0 1 0 1 0\n",
      " 0 1 1 0 0 0 1 1 0 0 0 1 1 1 1 1 0 1 0 0 1 0 1 0 1 0 0 1 1 0 0 0 1 1 0 0 0\n",
      " 1 1 1 1 1 0 1 0 0 1 0 1 0 1 0 0 1 1 0 0 0 1 1 0 0 0 1 1 1 1 1 0 1 0 1 0 1\n",
      " 0 1 0 0 1 1 0 1 1 0 0 0 1 1 1 1 1 0 1 0 0 1 0 1 0 1 0 0 1 1 0 0 0 1 1 0 0\n",
      " 0 1 1 1 1 1 0 1 0 0 1 0 1 0 1 0 0 1 1 0 0 0 1 1 0 0 0 1 1 1 1 1 0 1 0 0 1\n",
      " 0 1 0 1 0 0 1 1 0 0 0 1 1 0 0 0 1 1 1 1 1 0 1 0 0 1 0 1 0 1 0 0 1 1 0 0 0\n",
      " 1 1 0 0]\n",
      "(300,)\n"
     ]
    }
   ],
   "source": [
    "print(training_images)\n",
    "print(training_images.shape)\n",
    "print(training_labels)\n",
    "print(training_labels.shape)"
   ]
  },
  {
   "cell_type": "code",
   "execution_count": 18,
   "metadata": {},
   "outputs": [
    {
     "name": "stdout",
     "output_type": "stream",
     "text": [
      "[[ 0.05230854 -0.06464313]\n",
      " [ 0.05957712  0.08128662]\n",
      " [ 0.05913801 -0.04476216]\n",
      " [ 0.05795182  0.06762063]\n",
      " [ 0.06421645 -0.05044293]\n",
      " [ 0.0602047   0.06294291]\n",
      " [ 0.05979799 -0.07715445]\n",
      " [ 0.06527025 -0.0483167 ]\n",
      " [ 0.05059654  0.05710633]\n",
      " [ 0.05030162  0.05752349]\n",
      " [ 0.05809689 -0.05008442]\n",
      " [ 0.05743902 -0.04593103]\n",
      " [ 0.07137462 -0.03681324]\n",
      " [ 0.05500763  0.05778806]\n",
      " [ 0.05035455  0.06044636]\n",
      " [ 0.06964108 -0.0431815 ]\n",
      " [ 0.05532807 -0.0564288 ]\n",
      " [ 0.06118809 -0.06434459]\n",
      " [ 0.05675064  0.06817873]\n",
      " [ 0.05024503  0.07515021]\n",
      " [ 0.05080355  0.06133519]\n",
      " [ 0.05690961  0.07922091]\n",
      " [ 0.0601503   0.06706466]\n",
      " [ 0.06318766 -0.03453422]\n",
      " [ 0.04742139  0.05448215]\n",
      " [ 0.07013493 -0.04456172]\n",
      " [ 0.05300112 -0.05826842]\n",
      " [ 0.04922109  0.02010633]\n",
      " [ 0.06467704 -0.0562645 ]\n",
      " [ 0.05347065  0.04841881]\n",
      " [ 0.06379296 -0.04540131]\n",
      " [ 0.0445289   0.03416144]\n",
      " [ 0.07119723 -0.06219964]\n",
      " [ 0.06225462 -0.06680111]\n",
      " [ 0.06171028  0.04662941]\n",
      " [ 0.05362591  0.02392674]\n",
      " [ 0.06877769 -0.0647186 ]\n",
      " [ 0.06360821 -0.02984023]\n",
      " [ 0.07426884 -0.04711085]\n",
      " [ 0.06052696  0.05455098]\n",
      " [ 0.05417279  0.05732478]\n",
      " [ 0.06626371 -0.06363384]\n",
      " [ 0.07331378 -0.03420445]\n",
      " [ 0.06806854 -0.03532092]\n",
      " [ 0.05819596  0.05016268]\n",
      " [ 0.047646    0.04739512]\n",
      " [ 0.04825516  0.03059058]\n",
      " [ 0.06833561  0.06465357]\n",
      " [ 0.05929661  0.0570678 ]\n",
      " [ 0.06173887 -0.07122943]\n",
      " [ 0.06781834  0.05786007]\n",
      " [ 0.0653884  -0.05401414]\n",
      " [ 0.06021509 -0.0483699 ]\n",
      " [ 0.06225593  0.06587134]\n",
      " [ 0.05831591 -0.05654537]\n",
      " [ 0.0493168   0.07217962]\n",
      " [ 0.05686255 -0.05412814]\n",
      " [ 0.06519627  0.06733717]\n",
      " [ 0.05555434 -0.0548177 ]\n",
      " [ 0.05203099 -0.06199191]\n",
      " [ 0.06316997  0.06401498]\n",
      " [ 0.05990201  0.07567911]\n",
      " [ 0.05190324 -0.0486837 ]\n",
      " [ 0.05722585 -0.06735943]\n",
      " [ 0.05695294 -0.06058554]\n",
      " [ 0.05639109  0.05874839]\n",
      " [ 0.05966174  0.06655806]\n",
      " [ 0.05673564 -0.04962347]\n",
      " [ 0.06103801 -0.05985831]\n",
      " [ 0.05773313 -0.05010971]\n",
      " [ 0.05064313  0.07828897]\n",
      " [ 0.04871634  0.07202441]\n",
      " [ 0.05866837  0.07363368]\n",
      " [ 0.05689859  0.07711738]\n",
      " [ 0.05363548  0.07402264]\n",
      " [ 0.05913325 -0.04080477]\n",
      " [ 0.06732564  0.03456852]\n",
      " [ 0.05770472 -0.05716855]\n",
      " [ 0.0602481  -0.06442619]\n",
      " [ 0.06110159  0.02811786]\n",
      " [ 0.06537738 -0.06770765]\n",
      " [ 0.06531316  0.05641321]\n",
      " [ 0.0631212  -0.06089157]\n",
      " [ 0.07129108  0.05348049]\n",
      " [ 0.06329761 -0.05396786]\n",
      " [ 0.06008755 -0.06144622]\n",
      " [ 0.06108216  0.05004121]\n",
      " [ 0.05945721  0.05537114]\n",
      " [ 0.0595327  -0.06593917]\n",
      " [ 0.05636583 -0.0511965 ]\n",
      " [ 0.05544251 -0.070448  ]\n",
      " [ 0.04496044  0.04774114]\n",
      " [ 0.06211006  0.06225182]\n",
      " [ 0.0585721  -0.05821909]\n",
      " [ 0.05606453 -0.07035644]\n",
      " [ 0.06388374 -0.05578193]\n",
      " [ 0.05813514  0.0685667 ]\n",
      " [ 0.06265605  0.06774145]\n",
      " [ 0.05257657  0.06628022]\n",
      " [ 0.06902498  0.06132641]\n",
      " [ 0.06798514  0.05496114]\n",
      " [ 0.05956629 -0.0506069 ]\n",
      " [ 0.06984942  0.04914839]\n",
      " [ 0.05503217 -0.05997316]\n",
      " [ 0.05938496 -0.06359484]\n",
      " [ 0.05284863  0.06095815]\n",
      " [ 0.04790589 -0.05185817]\n",
      " [ 0.04515706  0.04425894]\n",
      " [ 0.05554916 -0.0601608 ]\n",
      " [ 0.05346696  0.05414317]\n",
      " [ 0.05618868 -0.06368822]\n",
      " [ 0.05098814 -0.06112481]\n",
      " [ 0.05345405  0.04922118]\n",
      " [ 0.05877204  0.04849508]\n",
      " [ 0.05322421 -0.05415248]\n",
      " [ 0.06180965 -0.0753094 ]\n",
      " [ 0.05273603 -0.05597029]\n",
      " [ 0.0529042   0.04353122]\n",
      " [ 0.05766839  0.04672085]\n",
      " [ 0.0601827  -0.0374567 ]\n",
      " [ 0.04778599 -0.05304864]\n",
      " [ 0.05430675 -0.05272682]\n",
      " [ 0.05171463  0.05264295]\n",
      " [ 0.05925403  0.05842751]\n",
      " [ 0.05225113  0.04057234]\n",
      " [ 0.05275406  0.07015533]\n",
      " [ 0.07660301  0.05709748]\n",
      " [ 0.04758511 -0.06141101]\n",
      " [ 0.05603596  0.06882946]\n",
      " [ 0.05750223 -0.06849354]\n",
      " [ 0.06563723 -0.06397083]\n",
      " [ 0.06057445  0.07226744]\n",
      " [ 0.05088114 -0.04754693]\n",
      " [ 0.0702378   0.05421528]\n",
      " [ 0.06801819 -0.05432936]\n",
      " [ 0.06566313  0.04535679]\n",
      " [ 0.05344985 -0.04685664]\n",
      " [ 0.06328065 -0.06633812]\n",
      " [ 0.07325464  0.06071971]\n",
      " [ 0.07257771  0.05570029]\n",
      " [ 0.06216178 -0.05337407]\n",
      " [ 0.05244393 -0.04797828]\n",
      " [ 0.06682619 -0.01454685]\n",
      " [ 0.06086935  0.07838845]\n",
      " [ 0.06248065  0.04742785]\n",
      " [ 0.06210017 -0.04889797]\n",
      " [ 0.06581344 -0.05720857]\n",
      " [ 0.05920484 -0.05375385]\n",
      " [ 0.05700842  0.07829773]\n",
      " [ 0.06393615  0.03223394]\n",
      " [ 0.07297949  0.0390506 ]\n",
      " [ 0.06865786  0.05129496]\n",
      " [ 0.05850444  0.04919781]\n",
      " [ 0.06154401 -0.04895969]\n",
      " [ 0.06074577  0.05528938]\n",
      " [ 0.05846295 -0.04912288]\n",
      " [ 0.04560123 -0.05628396]\n",
      " [ 0.05090182  0.08007148]\n",
      " [ 0.05970374 -0.07839051]\n",
      " [ 0.05358665  0.06619707]\n",
      " [ 0.04890581 -0.05407764]\n",
      " [ 0.05785519  0.07989601]\n",
      " [ 0.05392824 -0.0641835 ]\n",
      " [ 0.05817713 -0.0650017 ]\n",
      " [ 0.0790586   0.04096693]\n",
      " [ 0.06917293  0.05699812]\n",
      " [ 0.0654907  -0.03867025]\n",
      " [ 0.06239392 -0.04307169]\n",
      " [ 0.0634344  -0.06040753]\n",
      " [ 0.05235753  0.03481043]\n",
      " [ 0.06715857  0.06388743]\n",
      " [ 0.06678922 -0.05684552]\n",
      " [ 0.07338205 -0.0353446 ]\n",
      " [ 0.04896593 -0.06077024]\n",
      " [ 0.06754452  0.04526691]\n",
      " [ 0.06277305  0.05522938]\n",
      " [ 0.05676707  0.07225891]\n",
      " [ 0.06132964  0.0712854 ]\n",
      " [ 0.05595131  0.07651251]\n",
      " [ 0.05322386 -0.06452399]\n",
      " [ 0.05973842  0.07030183]\n",
      " [ 0.05239646 -0.04117021]\n",
      " [ 0.04957386  0.04259727]\n",
      " [ 0.04996674 -0.06351836]\n",
      " [ 0.05238152  0.04852883]\n",
      " [ 0.05065515 -0.06205103]\n",
      " [ 0.05242597  0.0432031 ]\n",
      " [ 0.0517097  -0.06160452]\n",
      " [ 0.04578395 -0.06495503]\n",
      " [ 0.05280869  0.04945661]\n",
      " [ 0.04918356  0.03653838]\n",
      " [ 0.05000976 -0.06107634]\n",
      " [ 0.04573169  0.04410688]\n",
      " [ 0.04943325  0.05537091]\n",
      " [ 0.04779576 -0.06618859]\n",
      " [ 0.0453354  -0.05428377]\n",
      " [ 0.04701874 -0.05799505]\n",
      " [ 0.05187718  0.05189948]\n",
      " [ 0.05105566  0.04309745]\n",
      " [ 0.05084666  0.05269437]\n",
      " [ 0.04470024  0.05711355]\n",
      " [ 0.04543254  0.04713727]\n",
      " [ 0.0530348  -0.0688231 ]\n",
      " [ 0.05158996  0.04253697]\n",
      " [ 0.04240377 -0.05526397]\n",
      " [ 0.04957964 -0.05917762]\n",
      " [ 0.07482229  0.05413617]\n",
      " [ 0.05727156 -0.06635624]\n",
      " [ 0.06586945  0.06539137]\n",
      " [ 0.04993809 -0.05133348]\n",
      " [ 0.05618508  0.0827475 ]\n",
      " [ 0.04923497 -0.06459893]\n",
      " [ 0.05445653 -0.05020909]\n",
      " [ 0.07318353  0.05273578]\n",
      " [ 0.05956457  0.07452869]\n",
      " [ 0.04618432 -0.02527932]\n",
      " [ 0.04162972 -0.03766925]\n",
      " [ 0.06340879 -0.07433162]\n",
      " [ 0.06200738  0.03625192]\n",
      " [ 0.05539605  0.08012343]\n",
      " [ 0.04799036 -0.05962092]\n",
      " [ 0.0634615  -0.06756009]\n",
      " [ 0.0602058  -0.07481587]\n",
      " [ 0.05792746  0.05919502]\n",
      " [ 0.05877905  0.08092266]\n",
      " [ 0.07031154  0.05413115]\n",
      " [ 0.06116511  0.07730887]\n",
      " [ 0.05189393  0.05361944]\n",
      " [ 0.04897381 -0.05989359]\n",
      " [ 0.05951472  0.07074366]\n",
      " [ 0.05221683 -0.06266397]\n",
      " [ 0.05077001 -0.05847618]\n",
      " [ 0.05995845  0.0635268 ]\n",
      " [ 0.04896431 -0.05808556]\n",
      " [ 0.05610537  0.05957191]\n",
      " [ 0.05174134 -0.04669732]\n",
      " [ 0.05269667  0.05296529]\n",
      " [ 0.04755872 -0.04318678]\n",
      " [ 0.06197615 -0.07040453]\n",
      " [ 0.06459632  0.0689145 ]\n",
      " [ 0.05506532  0.06301677]\n",
      " [ 0.0631657  -0.07495648]\n",
      " [ 0.05932632 -0.06523207]\n",
      " [ 0.05069016 -0.05828352]\n",
      " [ 0.04403078  0.08402967]\n",
      " [ 0.06016599  0.05493773]\n",
      " [ 0.04855496 -0.04484103]\n",
      " [ 0.04525554 -0.04960302]\n",
      " [ 0.04852619 -0.0571443 ]\n",
      " [ 0.05544845  0.07901756]\n",
      " [ 0.05775375  0.05216258]\n",
      " [ 0.05806539  0.0662146 ]\n",
      " [ 0.05829383  0.06379623]\n",
      " [ 0.05287407  0.0268491 ]\n",
      " [ 0.05737459 -0.03630917]\n",
      " [ 0.04872974  0.01612994]\n",
      " [ 0.04292542 -0.04162131]\n",
      " [ 0.04801536 -0.05230487]\n",
      " [ 0.04859504  0.00993732]\n",
      " [ 0.05747407 -0.04591059]\n",
      " [ 0.05366127  0.0618362 ]\n",
      " [ 0.05888569 -0.05795344]\n",
      " [ 0.04291382  0.01155705]\n",
      " [ 0.06357213 -0.07427912]\n",
      " [ 0.07046701 -0.02935079]\n",
      " [ 0.04674474  0.07806447]\n",
      " [ 0.04891306  0.08617098]\n",
      " [ 0.06381431 -0.05891573]\n",
      " [ 0.06525764 -0.05927935]\n",
      " [ 0.06414518 -0.07407836]\n",
      " [ 0.0582068   0.03279649]\n",
      " [ 0.05232877  0.07663908]\n",
      " [ 0.05128927 -0.05162712]\n",
      " [ 0.05301458 -0.06897524]\n",
      " [ 0.06067844 -0.04754256]\n",
      " [ 0.05280734  0.05143713]\n",
      " [ 0.05322822  0.07720542]\n",
      " [ 0.04640685  0.0748396 ]\n",
      " [ 0.05323111  0.08331819]\n",
      " [ 0.05306408  0.06797519]\n",
      " [ 0.06270698 -0.06059852]\n",
      " [ 0.04898052  0.06019318]\n",
      " [ 0.06894971 -0.03284515]\n",
      " [ 0.04863862 -0.05753865]\n",
      " [ 0.05968959  0.03250134]\n",
      " [ 0.05668188 -0.0549896 ]\n",
      " [ 0.05126101  0.01772218]\n",
      " [ 0.05110744 -0.04782458]\n",
      " [ 0.0566651   0.04146196]\n",
      " [ 0.05043156 -0.05160813]\n",
      " [ 0.05453918 -0.05414908]\n",
      " [ 0.05377064  0.01242755]\n",
      " [ 0.04389915  0.0046383 ]\n",
      " [ 0.05597905 -0.0608676 ]\n",
      " [ 0.05272596 -0.05477505]\n",
      " [ 0.06327086 -0.07404643]\n",
      " [ 0.05246824  0.0039568 ]\n",
      " [ 0.05349287  0.00332519]\n",
      " [ 0.06147686 -0.07400356]\n",
      " [ 0.06166857 -0.07206004]]\n",
      "(300, 2)\n",
      "(300,)\n",
      "(300,)\n"
     ]
    }
   ],
   "source": [
    "import numpy as np\n",
    "U, s, Vh = np.linalg.svd(training_images)\n",
    "d=U[:,0:2]\n",
    "print(U[:,0:2])\n",
    "print(d.shape)\n",
    "first=d[:,0]\n",
    "second=d[:,1]\n",
    "print(first.shape)\n",
    "print(second.shape)"
   ]
  },
  {
   "cell_type": "code",
   "execution_count": 26,
   "metadata": {},
   "outputs": [
    {
     "data": {
      "image/png": "[encoded data removed]",
      "text/plain": [
       "<Figure size 432x288 with 1 Axes>"
      ]
     },
     "metadata": {},
     "output_type": "display_data"
    }
   ],
   "source": [
    "for q in range (300):\n",
    "    if training_labels[q] ==1 :\n",
    "        plt.plot(first[q],second[q], 'go')\n",
    "    else:\n",
    "        plt.plot(first[q],second[q], 'ro')"
   ]
  },
  {
   "cell_type": "code",
   "execution_count": 27,
   "metadata": {},
   "outputs": [
    {
     "name": "stdout",
     "output_type": "stream",
     "text": [
      "(60, 64)\n",
      "(60,)\n"
     ]
    }
   ],
   "source": [
    "print(test_images.shape)\n",
    "print(test_labels.shape)"
   ]
  },
  {
   "cell_type": "code",
   "execution_count": 30,
   "metadata": {},
   "outputs": [],
   "source": [
    "U2, s2, Vh2 = np.linalg.svd(test_images)\n",
    "testpca=U2[:,0:2]"
   ]
  },
  {
   "cell_type": "code",
   "execution_count": 32,
   "metadata": {},
   "outputs": [
    {
     "name": "stdout",
     "output_type": "stream",
     "text": [
      "(60, 2)\n"
     ]
    }
   ],
   "source": [
    "print(testpca.shape)\n",
    "test1=testpca[:,0]\n",
    "test2=testpca[:,1]"
   ]
  },
  {
   "cell_type": "code",
   "execution_count": 34,
   "metadata": {},
   "outputs": [
    {
     "data": {
      "text/plain": [
       "[<matplotlib.lines.Line2D at 0x1449b86cd68>]"
      ]
     },
     "execution_count": 34,
     "metadata": {},
     "output_type": "execute_result"
    },
    {
     "data": {
      "image/png": "[encoded data removed]",
      "text/plain": [
       "<Figure size 432x288 with 1 Axes>"
      ]
     },
     "metadata": {},
     "output_type": "display_data"
    }
   ],
   "source": [
    "plt.plot(test1,test2, 'go')\n"
   ]
  },
  {
   "cell_type": "code",
   "execution_count": 36,
   "metadata": {},
   "outputs": [
    {
     "data": {
      "text/plain": [
       "(2,)"
      ]
     },
     "execution_count": 36,
     "metadata": {},
     "output_type": "execute_result"
    }
   ],
   "source": [
    "testpoint0=testpca[0,:]\n",
    "testpoint0.shape"
   ]
  },
  {
   "cell_type": "code",
   "execution_count": 79,
   "metadata": {},
   "outputs": [
    {
     "name": "stdout",
     "output_type": "stream",
     "text": [
      "[  1 224 143 210]\n",
      "5\n"
     ]
    }
   ],
   "source": [
    "y0=np.zeros(shape=(300,2))\n",
    "for r in range (300):\n",
    "    y0[r]=(testpoint0-d[r,:])\n",
    "\n",
    "y0_1=y0[:,0]\n",
    "y0_2=y0[:,1]\n",
    "y0_1_squared=y0_1**2\n",
    "y0_2_squared=y0_2**2\n",
    "\n",
    "dist0=(y0_1+y0_2)\n",
    "#print(dist0.shape)\n",
    "\n",
    "labeldist0 = np.argsort(dist0)\n",
    "print(labeldist0[0:4])\n",
    "\n",
    "label0=0;\n",
    "for b in range(5):\n",
    "    label0= training_labels[labeldist0[b]] + label0\n",
    "    \n",
    "if label0 >2\n",
    "reallabel0=1"
   ]
  },
  {
   "cell_type": "code",
   "execution_count": 94,
   "metadata": {},
   "outputs": [],
   "source": [
    "for f in range (60):\n",
    "\n",
    "    testpoint1=testpca[f,:]\n",
    "    y=np.zeros(shape=(300,2))\n",
    "    for r in range (300):\n",
    "        y[r]=(testpoint1-d[r,:])\n",
    "\n",
    "    y1_1=y[:,0]\n",
    "    y1_2=y[:,1]\n",
    "    y1_1_squared=y1_1**2\n",
    "    y1_2_squared=y1_2**2\n",
    "\n",
    "    dist1=(y1_1+y1_2)\n",
    "    #print(dist0.shape)\n",
    "\n",
    "    labeldist1 = np.argsort(dist1)\n",
    "    #print(labeldist1[0:4])\n",
    "\n",
    "    label1=0;\n",
    "    for b in range(5):\n",
    "        label1= training_labels[labeldist1[b]] + label1   \n",
    "    reallabel= np.zeros(60)\n",
    "    if label1 > 2:\n",
    "        reallabel[f]=1\n",
    "    else:\n",
    "        reallabel[f]=0\n",
    "                "
   ]
  },
  {
   "cell_type": "code",
   "execution_count": 101,
   "metadata": {},
   "outputs": [
    {
     "data": {
      "image/png": "[encoded data removed]",
      "text/plain": [
       "<Figure size 432x288 with 1 Axes>"
      ]
     },
     "metadata": {},
     "output_type": "display_data"
    }
   ],
   "source": [
    "for q in range (60):\n",
    "    if reallabel[q] ==1 :\n",
    "        plt.plot(test1[q],test2[q], 'ko')\n",
    "    else:\n",
    "        plt.plot(test1[q],test2[q], 'bo')\n"
   ]
  },
  {
   "cell_type": "markdown",
   "metadata": {},
   "source": [
    "The average classification error is 1/60 since there was 1 point misclassified out of the 60 test points."
   ]
  },
  {
   "cell_type": "markdown",
   "metadata": {},
   "source": [
    "KNN Classification Using Higher Dimensional Features"
   ]
  },
  {
   "cell_type": "code",
   "execution_count": 104,
   "metadata": {},
   "outputs": [
    {
     "name": "stdout",
     "output_type": "stream",
     "text": [
      "(300, 4)\n",
      "(60, 4)\n"
     ]
    }
   ],
   "source": [
    "U4, s, Vh = np.linalg.svd(training_images)\n",
    "d4=U[:,0:4]\n",
    "print(d4.shape)\n",
    "\n",
    "U3, s2, Vh2 = np.linalg.svd(test_images)\n",
    "testpca4d=U3[:,0:4]\n",
    "print(testpca4d.shape)\n",
    "test1_4d=testpca4d[:,0]\n",
    "test2_4d=testpca4d[:,1]\n",
    "test3_4d=testpca4d[:,2]\n",
    "test4_4d=testpca4d[:,3]\n"
   ]
  },
  {
   "cell_type": "code",
   "execution_count": 113,
   "metadata": {},
   "outputs": [],
   "source": [
    "for f in range (60):\n",
    "\n",
    "    testpoint1=testpca4d[f,:]\n",
    "    y=np.zeros(shape=(300,4))\n",
    "    for r in range (300):\n",
    "        y[r]=(testpoint1-d4[r,:])\n",
    "\n",
    "    y1_1=y[:,0]\n",
    "    y1_2=y[:,1]\n",
    "    y1_1_squared=y1_1**2\n",
    "    y1_2_squared=y1_2**2\n",
    "\n",
    "    dist1=(y1_1+y1_2)\n",
    "    #print(dist0.shape)\n",
    "\n",
    "    labeldist1 = np.argsort(dist1)\n",
    "    #print(labeldist1[0:4])\n",
    "\n",
    "    label1=0;\n",
    "    label1_3=0;\n",
    "    label1_5=0;\n",
    "    label1_7=0;\n",
    "    label1_9=0;\n",
    "    \n",
    "    for b in range(1):\n",
    "        label1= training_labels[labeldist1[b]] + label1   \n",
    "    reallabel4d= np.zeros(60)\n",
    "    if label1 > 0:\n",
    "        reallabel4d[f]=1\n",
    "    else:\n",
    "        reallabel4d[f]=0\n",
    "        \n",
    "    for b in range(3):\n",
    "        label1_3= training_labels[labeldist1[b]] + label1_3   \n",
    "    reallabel4d_3= np.zeros(60)\n",
    "    if label1_3 > 1:\n",
    "        reallabel4d_3[f]=1\n",
    "    else:\n",
    "        reallabel4d_3[f]=0\n",
    "        \n",
    "    for b in range(5):\n",
    "        label1_5= training_labels[labeldist1[b]] + label1_5   \n",
    "    reallabel4d_5= np.zeros(60)\n",
    "    if label1_5 > 2:\n",
    "        reallabel4d_5[f]=1\n",
    "    else:\n",
    "        reallabel4d_5[f]=0\n",
    "        \n",
    "    for b in range(7):\n",
    "        label1_7= training_labels[labeldist1[b]] + label1_7   \n",
    "    reallabel4d_7= np.zeros(60)\n",
    "    if label1_7 > 3:\n",
    "        reallabel4d_7[f]=1\n",
    "    else:\n",
    "        reallabel4d_7[f]=0\n",
    "        \n",
    "    for b in range(9):\n",
    "        label1_9= training_labels[labeldist1[b]] + label1_9   \n",
    "    reallabel4d_9= np.zeros(60)\n",
    "    if label1_9 > 4:\n",
    "        reallabel4d_9[f]=1\n",
    "    else:\n",
    "        reallabel4d_9[f]=0"
   ]
  },
  {
   "cell_type": "code",
   "execution_count": 117,
   "metadata": {},
   "outputs": [],
   "source": [
    "error1=sum(reallabel4d)/60\n",
    "error3=sum(reallabel4d_3)/60\n",
    "error5=sum(reallabel4d_5)/60\n",
    "error7=sum(reallabel4d_7)/60\n",
    "error9=sum(reallabel4d_9)/60"
   ]
  },
  {
   "cell_type": "code",
   "execution_count": 123,
   "metadata": {},
   "outputs": [
    {
     "data": {
      "text/plain": [
       "Text(0.5,1,'k vs.error')"
      ]
     },
     "execution_count": 123,
     "metadata": {},
     "output_type": "execute_result"
    },
    {
     "data": {
      "image/png": "[encoded data removed]",
      "text/plain": [
       "<Figure size 432x288 with 1 Axes>"
      ]
     },
     "metadata": {},
     "output_type": "display_data"
    }
   ],
   "source": [
    "plt.plot([1,3,5,7,9],[error1,error3,error5,error7,error9], 'ro')\n",
    "plt.xlabel(\"k\")\n",
    "plt.ylabel(\"error\")\n",
    "plt.title(\"k vs.error\")"
   ]
  },
  {
   "cell_type": "markdown",
   "metadata": {},
   "source": [
    "The error did not change as the value of k changed. The KNN algorithm can tend to be computationally expensive. In order to reduce the computational load, we should set the value of k to be 1 to improve the run time of our algorithm. This should not affect the error rate."
   ]
  }
 ],
 "metadata": {
  "kernelspec": {
   "display_name": "Python 3",
   "language": "python",
   "name": "python3"
  },
  "language_info": {
   "codemirror_mode": {
    "name": "ipython",
    "version": 3
   },
   "file_extension": ".py",
   "mimetype": "text/x-python",
   "name": "python",
   "nbconvert_exporter": "python",
   "pygments_lexer": "ipython3",
   "version": "3.6.5"
  }
 },
 "nbformat": 4,
 "nbformat_minor": 2
}
